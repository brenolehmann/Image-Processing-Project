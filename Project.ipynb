{
 "cells": [],
 "metadata": {},
 "nbformat": 4,
 "nbformat_minor": 2
}

## --------------------- / / ------------------------------------- ##

##  To set directories with the zip files and the unzip files. ##
dir_zip_files = 'D:\Python\Jupyter\IP_Project\zipFiles'
dir_unzip_files = 'D:\Python\Jupyter\IP_Project\DataBase'
dir_MetaData_zip_files = 'D:\Python\Jupyter\IP_Project\metaDataZipFile'
dir_MetaData_unzip_files = 'D:\Python\Jupyter\IP_Project\metaData_dataBase'

## --------------------- / / ------------------------------------- ##

#Extracting All Images From the Zip Files

# importing required modules 
import os
from zipfile import ZipFile
  
#Change to the directo    
os.chdir(dir_zip_files)    

# specifying the zip file name 
zipfile1 = "HAM10000_images_part_1.zip"
zipfile2 = "HAM10000_images_part_2.zip" 
    
# opening the zip file in READ mode 
with ZipFile(zipfile1, 'r') as zip: 
    # printing all the contents of the zip file 
    os.chdir(dir_unzip_files_batch1)
    zip.printdir() 
  
    # extracting all the files 
    print('Extracting all the files now...') 
    zip.extractall() 
    print('Done!') 

os.chdir(dir_zip_files)   
    
with ZipFile(zipfile2, 'r') as zip: 
    # printing all the contents of the zip file
    os.chdir(dir_unzip_files_batch2)
    zip.printdir() 
  
    # extracting all the files 
    print('Extracting all the files now...') 
    zip.extractall() 
    print('Done!') 

## --------------------- / / ------------------------------------- ##



## --------------------- / / ------------------------------------- ##

## Loading all images
import numpy as np
import os
from os.path import isfile, join
from os import listdir
import glob
import matplotlib.pyplot as plt
from os.path import isfile, join

os.chdir(dir_unzip_files) #Changing the directory

images_total = []
#onlyfiles = [ f for f in listdir(dir_unzip_files) if isfile(join(dir_unzip_files,f)) ]
#imagenames = [os.path.splitext(filename)[0] for filename in os.listdir(dir_unzip_files_batch)]
#image_names_batch = np.empty(len(onlyfiles), dtype=object)
files_batch = glob.glob ("D:/Python/Jupyter/IP_Project/DataBase/*.JPG")
for myFile in files_batch:
    #print(myFile)
    image = plt.imread (myFile)
    images_total.append (image)
    #for n in range(0, len(onlyfiles)):
        #image_names_batch[n] = join(onlyfiles[n])

print('images_total shape:', np.array(images_total).shape)

## --------------------- / / ------------------------------------- ##

## Turning the list into a numpy array.
import numpy as np
images_total = np.array(images_total)

## --------------------- / / ------------------------------------- ##

###Extracting The Metadata

# Importing all necessarie packages
import os, zipfile

extension = ".zip"

os.chdir(dir_zip_files) # change directory from working dir to dir with files

for item in os.listdir(dir_zip_files): # loop through items in dir
    if item.endswith(extension): # check for ".zip" extension
        file_name = os.path.abspath(item) # get full path of files
        zip_ref = zipfile.ZipFile(file_name) # create zipfile object
        os.chdir(dir_zip_files) # change directory from working dir to dir with files
        zip_ref.extractall(dir_unzip_files) # extract file to dir
        zip_ref.close() # close file
        ##os.remove(file_name) # delete zipped file

## --------------------- / / ------------------------------------- ##

## Checking the loading of images and whether the metadata is arranged in the same order ##
print(type(filenames_pd))
print(type(metadata_pd))
organized_metadata = pd.merge(left=filenames_pd, right=metadata_pd, left_on='filenames',right_on='image_id')
print(type(organized_metadata))

## --------------------- / / ------------------------------------- ##

## Creating one-hot encoding to use on the CNN

# Labels
labels = np.array(organized_metadata['dx'].tolist())
#print(type(labels))

# Classes
classes = np.array(["akiec","bcc","bkl","df","mel","nv","vasc"])
n_classes = len(classes)

# Initialize ohe_labels as all zeros
ohe_labels = np.zeros((len(labels), n_classes))

# Loop over the labels
for ii in range(len(labels)):
    # Find the location of this label in the categories variable
    jj = np.where(classes == labels[ii])
    # Set the corresponding zero to one
    ohe_labels[ii, jj] = 1 

## --------------------- / / ------------------------------------- ##
